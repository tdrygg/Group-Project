{
 "cells": [
  {
   "cell_type": "code",
   "execution_count": 10,
   "metadata": {},
   "outputs": [
    {
     "data": {
      "text/plain": [
       "Index(['tripduration', 'start_time', 'end_time', 'start station id',\n",
       "       'start station name', 'start station latitude',\n",
       "       'start station longitude', 'end station id', 'end station name',\n",
       "       'end station latitude', 'end station longitude', 'bikeid', 'usertype',\n",
       "       'birth year', 'gender', 'bike type'],\n",
       "      dtype='object')"
      ]
     },
     "execution_count": 10,
     "metadata": {},
     "output_type": "execute_result"
    }
   ],
   "source": [
    "%matplotlib inline\n",
    "import matplotlib.pyplot as plt\n",
    "import pandas as pd\n",
    "import numpy as np\n",
    "\n",
    "#load data sets \n",
    "_2014_data = pd.read_csv(\"Project1CSV/Niceride 2014to2018/NR2014/Nice_Ride_trip_history_2014_season.csv\", low_memory=False)\n",
    "_2015_data = pd.read_csv(\"Project1CSV/Niceride 2014to2018/NR2015/Nice_Ride_trip_history_2015_season.csv\", low_memory=False)\n",
    "_2016_data = pd.read_csv(\"Project1CSV/Niceride 2014to2018/NR2016/Nice_Ride_trip_history_2016_season.csv\", low_memory=False)\n",
    "_2017_data = pd.read_csv(\"Project1CSV/Niceride 2014to2018/NR2017/Nice_Ride_trip_history_2017_season.csv\", low_memory=False)\n",
    "_2018_data = pd.read_csv(\"Project1CSV/Niceride 2014to2018/NR2018/data_2018.csv\", low_memory=False)\n",
    "\n",
    "\n",
    "\n",
    "_2018_data.columns\n",
    "\n"
   ]
  },
  {
   "cell_type": "code",
   "execution_count": null,
   "metadata": {},
   "outputs": [],
   "source": []
  }
 ],
 "metadata": {
  "kernelspec": {
   "display_name": "Python 3",
   "language": "python",
   "name": "python3"
  },
  "language_info": {
   "codemirror_mode": {
    "name": "ipython",
    "version": 3
   },
   "file_extension": ".py",
   "mimetype": "text/x-python",
   "name": "python",
   "nbconvert_exporter": "python",
   "pygments_lexer": "ipython3",
   "version": "3.7.3"
  }
 },
 "nbformat": 4,
 "nbformat_minor": 2
}
