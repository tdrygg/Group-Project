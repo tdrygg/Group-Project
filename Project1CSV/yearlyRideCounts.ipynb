{
 "cells": [
  {
   "cell_type": "code",
   "execution_count": 18,
   "metadata": {},
   "outputs": [],
   "source": [
    " # Import Numpy for calculations and matplotlib for charting\n",
    "import numpy as np\n",
    "import matplotlib.pyplot as plt \n",
    "import pandas as pd\n",
    "from datetime import datetime\n",
    "from dateutil import parser\n"
   ]
  },
  {
   "cell_type": "code",
   "execution_count": 28,
   "metadata": {},
   "outputs": [],
   "source": [
    "# Save path to data set in a variable\n",
    "# dataFile2010 = \"Resources/Nice_Ride_trip_history_2010_season.csv\"\n",
    "# dataFile2011 = \"Resources/Nice_Ride_trip_history_2011_season.csv\"\n",
    "# dataFile2012 = \"Resources/Nice_Ride_trip_history_2012_season.csv\"\n",
    "dataFile2010 = \"Resources/Nice_Ride_trip_history_2010_season.csv\"\n",
    "dataFile2011 = \"Resources/Nice_Ride_trip_history_2011_season.csv\"\n",
    "dataFile2012 = \"Resources/Nice_Ride_trip_history_2012_season.csv\"\n",
    "dataFile2013 = \"Resources/Nice_Ride_trip_history_2013_season.csv\"\n",
    "dataFile2014 = \"Resources/Nice_Ride_trip_history_2014_season.csv\"\n",
    "dataFile2015 = \"Resources/Nice_Ride_trip_history_2015_season.csv\"\n",
    "dataFile2016 = \"Resources/Nice_Ride_trip_history_2016_season.csv\"\n",
    "dataFile2017 = \"Resources/Nice_Ride_trip_history_2017_season.csv\"\n",
    "\n"
   ]
  },
  {
   "cell_type": "code",
   "execution_count": 30,
   "metadata": {},
   "outputs": [
    {
     "data": {
      "text/html": [
       "<div>\n",
       "<style scoped>\n",
       "    .dataframe tbody tr th:only-of-type {\n",
       "        vertical-align: middle;\n",
       "    }\n",
       "\n",
       "    .dataframe tbody tr th {\n",
       "        vertical-align: top;\n",
       "    }\n",
       "\n",
       "    .dataframe thead th {\n",
       "        text-align: right;\n",
       "    }\n",
       "</style>\n",
       "<table border=\"1\" class=\"dataframe\">\n",
       "  <thead>\n",
       "    <tr style=\"text-align: right;\">\n",
       "      <th></th>\n",
       "      <th>Start date</th>\n",
       "      <th>Start station</th>\n",
       "      <th>Start station number</th>\n",
       "      <th>End date</th>\n",
       "      <th>End station</th>\n",
       "      <th>End station number</th>\n",
       "      <th>Account type</th>\n",
       "      <th>Total duration (Seconds)</th>\n",
       "    </tr>\n",
       "  </thead>\n",
       "  <tbody>\n",
       "    <tr>\n",
       "      <th>0</th>\n",
       "      <td>11/5/2017 21:45</td>\n",
       "      <td>Hennepin Ave &amp; S Washington Ave</td>\n",
       "      <td>30184</td>\n",
       "      <td>11/5/2017 22:02</td>\n",
       "      <td>Logan Park</td>\n",
       "      <td>30104</td>\n",
       "      <td>Member</td>\n",
       "      <td>1048</td>\n",
       "    </tr>\n",
       "    <tr>\n",
       "      <th>1</th>\n",
       "      <td>11/5/2017 21:45</td>\n",
       "      <td>Broadway Street N &amp; 4th Street E</td>\n",
       "      <td>30122</td>\n",
       "      <td>11/5/2017 22:26</td>\n",
       "      <td>Broadway Street N &amp; 4th Street E</td>\n",
       "      <td>30122</td>\n",
       "      <td>Member</td>\n",
       "      <td>2513</td>\n",
       "    </tr>\n",
       "    <tr>\n",
       "      <th>2</th>\n",
       "      <td>11/5/2017 21:43</td>\n",
       "      <td>Dale Street &amp; Grand Ave.</td>\n",
       "      <td>30106</td>\n",
       "      <td>11/5/2017 22:13</td>\n",
       "      <td>N Milton Street &amp; Summit Ave</td>\n",
       "      <td>30101</td>\n",
       "      <td>Member</td>\n",
       "      <td>1817</td>\n",
       "    </tr>\n",
       "    <tr>\n",
       "      <th>3</th>\n",
       "      <td>11/5/2017 21:41</td>\n",
       "      <td>Weisman Art Museum</td>\n",
       "      <td>30183</td>\n",
       "      <td>11/5/2017 22:05</td>\n",
       "      <td>22nd Ave S &amp; Franklin Ave</td>\n",
       "      <td>30014</td>\n",
       "      <td>Casual</td>\n",
       "      <td>1399</td>\n",
       "    </tr>\n",
       "    <tr>\n",
       "      <th>4</th>\n",
       "      <td>11/5/2017 21:38</td>\n",
       "      <td>South 2nd Street &amp; 3rd Ave S</td>\n",
       "      <td>30030</td>\n",
       "      <td>11/5/2017 21:44</td>\n",
       "      <td>6th Ave SE &amp; University Ave</td>\n",
       "      <td>30088</td>\n",
       "      <td>Member</td>\n",
       "      <td>370</td>\n",
       "    </tr>\n",
       "  </tbody>\n",
       "</table>\n",
       "</div>"
      ],
      "text/plain": [
       "        Start date                     Start station Start station number  \\\n",
       "0  11/5/2017 21:45   Hennepin Ave & S Washington Ave                30184   \n",
       "1  11/5/2017 21:45  Broadway Street N & 4th Street E                30122   \n",
       "2  11/5/2017 21:43          Dale Street & Grand Ave.                30106   \n",
       "3  11/5/2017 21:41                Weisman Art Museum                30183   \n",
       "4  11/5/2017 21:38      South 2nd Street & 3rd Ave S                30030   \n",
       "\n",
       "          End date                       End station End station number  \\\n",
       "0  11/5/2017 22:02                        Logan Park              30104   \n",
       "1  11/5/2017 22:26  Broadway Street N & 4th Street E              30122   \n",
       "2  11/5/2017 22:13      N Milton Street & Summit Ave              30101   \n",
       "3  11/5/2017 22:05         22nd Ave S & Franklin Ave              30014   \n",
       "4  11/5/2017 21:44       6th Ave SE & University Ave              30088   \n",
       "\n",
       "  Account type  Total duration (Seconds)  \n",
       "0       Member                      1048  \n",
       "1       Member                      2513  \n",
       "2       Member                      1817  \n",
       "3       Casual                      1399  \n",
       "4       Member                       370  "
      ]
     },
     "execution_count": 30,
     "metadata": {},
     "output_type": "execute_result"
    }
   ],
   "source": [
    "# Use Pandas to read data\n",
    "nr2010_df = pd.read_csv(dataFile2010)\n",
    "nr2011_df = pd.read_csv(dataFile2011)\n",
    "nr2012_df = pd.read_csv(dataFile2012)\n",
    "nr2013_df = pd.read_csv(dataFile2013)\n",
    "nr2014_df = pd.read_csv(dataFile2014)\n",
    "nr2015_df = pd.read_csv(dataFile2015)\n",
    "nr2016_df = pd.read_csv(dataFile2016)\n",
    "nr2017_df = pd.read_csv(dataFile2017)\n",
    "nr2017_df.head()\n",
    "# len(nr2014_df)\n",
    "# nr2014_df.dtypes"
   ]
  },
  {
   "cell_type": "code",
   "execution_count": 21,
   "metadata": {},
   "outputs": [],
   "source": [
    "# Change the Start date column from a string to a python datetime object to run the analysis:\n",
    "# https://pandas.pydata.org/pandas-docs/stable/reference/api/pandas.to_datetime.html\n",
    "\n",
    "nr2010_df[\"Start date\"] = pd.to_datetime(nr2010_df[\"Start date\"], format='%m/%d/%Y %H:%M')\n",
    "nr2011_df[\"Start date\"] = pd.to_datetime(nr2011_df[\"Start date\"], format='%m/%d/%Y %H:%M')\n",
    "nr2012_df[\"Start date\"] = pd.to_datetime(nr2012_df[\"Start date\"], format='%m/%d/%Y %H:%M')\n",
    "nr2013_df[\"Start date\"] = pd.to_datetime(nr2013_df[\"Start date\"], format='%m/%d/%Y %H:%M')\n",
    "nr2014_df[\"Start date\"] = pd.to_datetime(nr2014_df[\"Start date\"], format='%m/%d/%Y %H:%M')\n",
    "nr2015_df[\"Start date\"] = pd.to_datetime(nr2015_df[\"Start date\"], format='%m/%d/%Y %H:%M')\n",
    "nr2016_df[\"Start date\"] = pd.to_datetime(nr2016_df[\"Start date\"], format='%m/%d/%Y %H:%M')\n",
    "nr2017_df[\"Start date\"] = pd.to_datetime(nr2017_df[\"Start date\"], format='%m/%d/%Y %H:%M')\n",
    "# nr2014_df.dtypes    "
   ]
  },
  {
   "cell_type": "code",
   "execution_count": 82,
   "metadata": {},
   "outputs": [
    {
     "name": "stdout",
     "output_type": "stream",
     "text": [
      "RangeIndex(start=0, stop=460718, step=1)\n"
     ]
    }
   ],
   "source": [
    "# print(nr2014_df.index)\n",
    "print(nr2017_df.index)"
   ]
  },
  {
   "cell_type": "code",
   "execution_count": 22,
   "metadata": {},
   "outputs": [],
   "source": [
    "# Move the index to the 'Start date' column.\n",
    "nr2010_df.index=nr2010_df['Start date']\n",
    "nr2011_df.index=nr2011_df['Start date']\n",
    "nr2012_df.index=nr2012_df['Start date']\n",
    "nr2013_df.index=nr2013_df['Start date']\n",
    "nr2014_df.index=nr2014_df['Start date']\n",
    "nr2015_df.index=nr2015_df['Start date']\n",
    "nr2016_df.index=nr2016_df['Start date']\n",
    "nr2017_df.index=nr2017_df['Start date']\n",
    "# print(nr2014_df.index)"
   ]
  },
  {
   "cell_type": "code",
   "execution_count": 23,
   "metadata": {},
   "outputs": [],
   "source": [
    "# Count the unique index values and assign to a variable.\n",
    "# https://stackoverflow.com/questions/24082784/pandas-dataframe-groupby-datetime-month\n",
    "# https://www.geeksforgeeks.org/python-pandas-index-value_counts/\n",
    "\n",
    "rideCounts2010 = nr2010_df.index.month.value_counts()\n",
    "rideCounts2011 = nr2011_df.index.month.value_counts()\n",
    "rideCounts2012 = nr2012_df.index.month.value_counts()\n",
    "rideCounts2013 = nr2013_df.index.month.value_counts()\n",
    "rideCounts2014 = nr2014_df.index.month.value_counts()\n",
    "rideCounts2015 = nr2015_df.index.month.value_counts()\n",
    "rideCounts2016 = nr2016_df.index.month.value_counts()\n",
    "rideCounts2017 = nr2017_df.index.month.value_counts()\n"
   ]
  },
  {
   "cell_type": "code",
   "execution_count": 10,
   "metadata": {},
   "outputs": [
    {
     "data": {
      "text/plain": [
       "7     23831\n",
       "8     23364\n",
       "9     21335\n",
       "10    18912\n",
       "6     10128\n",
       "11     4281\n",
       "Name: Start date, dtype: int64"
      ]
     },
     "execution_count": 10,
     "metadata": {},
     "output_type": "execute_result"
    }
   ],
   "source": [
    "# type(rideCounts)\n",
    "rideCounts2012"
   ]
  },
  {
   "cell_type": "code",
   "execution_count": 24,
   "metadata": {},
   "outputs": [],
   "source": [
    "# Sort the series.\n",
    "rideCounts2010.sort_index(ascending=True, inplace=True)\n",
    "rideCounts2011.sort_index(ascending=True, inplace=True)\n",
    "rideCounts2012.sort_index(ascending=True, inplace=True)\n",
    "rideCounts2013.sort_index(ascending=True, inplace=True)\n",
    "rideCounts2014.sort_index(ascending=True, inplace=True)\n",
    "rideCounts2015.sort_index(ascending=True, inplace=True)\n",
    "rideCounts2016.sort_index(ascending=True, inplace=True)\n",
    "rideCounts2017.sort_index(ascending=True, inplace=True)\n",
    "# rideCounts2014"
   ]
  },
  {
   "cell_type": "code",
   "execution_count": 107,
   "metadata": {},
   "outputs": [],
   "source": [
    "%matplotlib notebook"
   ]
  },
  {
   "cell_type": "code",
   "execution_count": 31,
   "metadata": {
    "scrolled": true
   },
   "outputs": [
    {
     "data": {
      "image/png": "[encoded data removed]",
      "text/plain": [
       "<Figure size 432x288 with 1 Axes>"
      ]
     },
     "metadata": {
      "needs_background": "light"
     },
     "output_type": "display_data"
    },
    {
     "data": {
      "text/plain": [
       "<Figure size 432x288 with 0 Axes>"
      ]
     },
     "metadata": {},
     "output_type": "display_data"
    }
   ],
   "source": [
    "rideCounts2010.plot(kind='line', marker=\"o\", color=\"red\", linewidth=1, grid=True)\n",
    "rideCounts2011.plot(kind='line', marker=\"o\", color=\"black\", linewidth=1, grid=True)\n",
    "rideCounts2012.plot(kind='line', marker=\"o\", color=\"yellow\", linewidth=1, grid=True)\n",
    "rideCounts2013.plot(kind='line', marker=\"o\", color=\"blue\", linewidth=1, grid=True)\n",
    "rideCounts2014.plot(kind='line', marker=\"o\", color=\"green\", linewidth=1, grid=True)\n",
    "rideCounts2015.plot(kind='line', marker=\"o\", color=\"black\", linewidth=1, grid=True)\n",
    "rideCounts2016.plot(kind='line', marker=\"o\", color=\"purple\", linewidth=1, grid=True)\n",
    "rideCounts2017.plot(kind='line', marker=\"o\", color=\"orange\", linewidth=1, grid=True)\n",
    "\n",
    "plt.xlim(4, 12)\n",
    "plt.title(\"Nice Rides per Month (April-November)\")\n",
    "plt.xlabel(\"Month\")\n",
    "plt.ylabel(\"Number of Rides\")\n",
    "plt.show()\n",
    "plt.tight_layout()"
   ]
  },
  {
   "cell_type": "code",
   "execution_count": null,
   "metadata": {},
   "outputs": [],
   "source": []
  }
 ],
 "metadata": {
  "kernelspec": {
   "display_name": "Python 3",
   "language": "python",
   "name": "python3"
  },
  "language_info": {
   "codemirror_mode": {
    "name": "ipython",
    "version": 3
   },
   "file_extension": ".py",
   "mimetype": "text/x-python",
   "name": "python",
   "nbconvert_exporter": "python",
   "pygments_lexer": "ipython3",
   "version": "3.7.3"
  }
 },
 "nbformat": 4,
 "nbformat_minor": 2
}
